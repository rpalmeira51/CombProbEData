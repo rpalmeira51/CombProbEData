{
 "cells": [
  {
   "cell_type": "code",
   "execution_count": 1,
   "metadata": {},
   "outputs": [],
   "source": [
    "import os \n",
    "from collections import deque\n",
    "import numpy as np"
   ]
  },
  {
   "cell_type": "code",
   "execution_count": 126,
   "metadata": {},
   "outputs": [],
   "source": [
    "def generateRandomGraph(n, Multigraph = True):\n",
    "    \n",
    "    graph = np.zeros((n,n))\n",
    "    \n",
    "    # sorteamos n//2 vezes um numero entre 0 e binom(n,2)[grafo] ou n**2[multigrafo]\n",
    "    cs  = np.random.randint(0, n*(n-1)/2 - Multigraph*(n*(n-1)/2 - n**2), size=(n//2))    \n",
    "    for c in cs:\n",
    "        i,j = divmod(c,n)  # só tem que verificar esse mapa pro caso grafo pra ficar uniforme as arestas.\n",
    "        graph[i][j] += 1\n",
    "        graph[j][i] += 1    # somando 1 pra aceitar\n",
    "    \n",
    "    return graph\n",
    "\n",
    "\n",
    "def next_vertix(color,n):\n",
    "    for k in range(n):\n",
    "        if k not in color:\n",
    "            return k\n",
    "    return False\n",
    "    \n",
    "def connected_components(graph):\n",
    "    \n",
    "    q = deque()\n",
    "    components = []\n",
    "    color = []\n",
    "    n = len(graph)\n",
    "    \n",
    "    while len(color) < n:\n",
    "        \n",
    "        v = next_vertix(color,n)\n",
    "        component = [v]\n",
    "        q.append(v)\n",
    "        color.append(v)\n",
    "        \n",
    "        while (q):\n",
    "            v = q.popleft()\n",
    "                \n",
    "            for i in range(len(graph)):\n",
    "                if(graph[v][i] >= 1 and (i not in color)):\n",
    "                    \n",
    "                    q.append(i)\n",
    "                    component.append(i)\n",
    "                    color.append(i)\n",
    "                    \n",
    "        components.append(component)\n",
    "        \n",
    "    return components\n",
    "\n",
    "def check_excessess(components,graph):\n",
    "    \"retorna uma lista com o numero de vértices de cada componente e seus excessos.\"\n",
    "    excessess = []\n",
    "    \n",
    "    for component in components:\n",
    "        print(component)\n",
    "        temp = 0\n",
    "        for v in component:\n",
    "            temp += sum(graph[v])\n",
    "        if temp != 0:   \n",
    "            excessess += [[len(component),temp/2]]\n",
    "    return excessess"
   ]
  },
  {
   "cell_type": "code",
   "execution_count": 127,
   "metadata": {},
   "outputs": [
    {
     "name": "stdout",
     "output_type": "stream",
     "text": [
      "[[0. 1. 0. 0. 0. 0. 0. 0. 0. 0.]\n",
      " [1. 0. 0. 1. 0. 0. 0. 0. 0. 0.]\n",
      " [0. 0. 2. 0. 0. 1. 0. 0. 0. 0.]\n",
      " [0. 1. 0. 0. 0. 0. 0. 0. 0. 0.]\n",
      " [0. 0. 0. 0. 0. 0. 0. 0. 0. 0.]\n",
      " [0. 0. 1. 0. 0. 0. 0. 0. 0. 0.]\n",
      " [0. 0. 0. 0. 0. 0. 2. 0. 0. 0.]\n",
      " [0. 0. 0. 0. 0. 0. 0. 0. 0. 0.]\n",
      " [0. 0. 0. 0. 0. 0. 0. 0. 0. 0.]\n",
      " [0. 0. 0. 0. 0. 0. 0. 0. 0. 0.]]\n",
      "[[0, 1, 3], [2, 5], [4], [6], [7], [8], [9]]\n"
     ]
    }
   ],
   "source": [
    "g= generateRandomGraph(10)\n",
    "print(g)\n",
    "print(connected_components(g))"
   ]
  },
  {
   "cell_type": "code",
   "execution_count": 128,
   "metadata": {},
   "outputs": [
    {
     "name": "stdout",
     "output_type": "stream",
     "text": [
      "[0, 1, 3]\n",
      "[2, 5]\n",
      "[4]\n",
      "[6]\n",
      "[7]\n",
      "[8]\n",
      "[9]\n"
     ]
    },
    {
     "data": {
      "text/plain": [
       "[[3, 2.0], [2, 2.0], [1, 1.0]]"
      ]
     },
     "execution_count": 128,
     "metadata": {},
     "output_type": "execute_result"
    }
   ],
   "source": [
    "check_excessess(connected_components(g),g)"
   ]
  },
  {
   "cell_type": "code",
   "execution_count": null,
   "metadata": {},
   "outputs": [],
   "source": [
    " "
   ]
  }
 ],
 "metadata": {
  "kernelspec": {
   "display_name": "Python 3",
   "language": "python",
   "name": "python3"
  },
  "language_info": {
   "codemirror_mode": {
    "name": "ipython",
    "version": 3
   },
   "file_extension": ".py",
   "mimetype": "text/x-python",
   "name": "python",
   "nbconvert_exporter": "python",
   "pygments_lexer": "ipython3",
   "version": "3.7.5"
  }
 },
 "nbformat": 4,
 "nbformat_minor": 2
}
